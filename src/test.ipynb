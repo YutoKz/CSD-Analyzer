{
 "cells": [
  {
   "cell_type": "markdown",
   "metadata": {},
   "source": [
    "### 準備"
   ]
  },
  {
   "cell_type": "code",
   "execution_count": 1,
   "metadata": {},
   "outputs": [
    {
     "name": "stdout",
     "output_type": "stream",
     "text": [
      "Requirement already satisfied: torch in /opt/conda/lib/python3.11/site-packages (from -r requirements.txt (line 1)) (2.2.1)\n",
      "Requirement already satisfied: torchvision in /opt/conda/lib/python3.11/site-packages (from -r requirements.txt (line 2)) (0.17.1)\n",
      "Requirement already satisfied: numpy in /opt/conda/lib/python3.11/site-packages (from -r requirements.txt (line 3)) (1.24.4)\n",
      "Requirement already satisfied: pandas in /opt/conda/lib/python3.11/site-packages (from -r requirements.txt (line 4)) (2.1.1)\n",
      "Requirement already satisfied: opencv-python in /opt/conda/lib/python3.11/site-packages (from -r requirements.txt (line 5)) (4.9.0.80)\n",
      "Requirement already satisfied: matplotlib in /opt/conda/lib/python3.11/site-packages (from -r requirements.txt (line 6)) (3.8.0)\n",
      "Requirement already satisfied: segmentation_models_pytorch in /opt/conda/lib/python3.11/site-packages (from -r requirements.txt (line 7)) (0.3.3)\n",
      "Requirement already satisfied: scikit-learn in /opt/conda/lib/python3.11/site-packages (from -r requirements.txt (line 8)) (1.3.1)\n",
      "Requirement already satisfied: Pillow in /opt/conda/lib/python3.11/site-packages (from -r requirements.txt (line 9)) (10.1.0)\n",
      "Requirement already satisfied: scikit-image in /opt/conda/lib/python3.11/site-packages (from -r requirements.txt (line 10)) (0.22.0)\n",
      "Requirement already satisfied: filelock in /opt/conda/lib/python3.11/site-packages (from torch->-r requirements.txt (line 1)) (3.13.1)\n",
      "Requirement already satisfied: typing-extensions>=4.8.0 in /opt/conda/lib/python3.11/site-packages (from torch->-r requirements.txt (line 1)) (4.8.0)\n",
      "Requirement already satisfied: sympy in /opt/conda/lib/python3.11/site-packages (from torch->-r requirements.txt (line 1)) (1.12)\n",
      "Requirement already satisfied: networkx in /opt/conda/lib/python3.11/site-packages (from torch->-r requirements.txt (line 1)) (3.2)\n",
      "Requirement already satisfied: jinja2 in /opt/conda/lib/python3.11/site-packages (from torch->-r requirements.txt (line 1)) (3.1.2)\n",
      "Requirement already satisfied: fsspec in /opt/conda/lib/python3.11/site-packages (from torch->-r requirements.txt (line 1)) (2023.9.2)\n",
      "Requirement already satisfied: nvidia-cuda-nvrtc-cu12==12.1.105 in /opt/conda/lib/python3.11/site-packages (from torch->-r requirements.txt (line 1)) (12.1.105)\n",
      "Requirement already satisfied: nvidia-cuda-runtime-cu12==12.1.105 in /opt/conda/lib/python3.11/site-packages (from torch->-r requirements.txt (line 1)) (12.1.105)\n",
      "Requirement already satisfied: nvidia-cuda-cupti-cu12==12.1.105 in /opt/conda/lib/python3.11/site-packages (from torch->-r requirements.txt (line 1)) (12.1.105)\n",
      "Requirement already satisfied: nvidia-cudnn-cu12==8.9.2.26 in /opt/conda/lib/python3.11/site-packages (from torch->-r requirements.txt (line 1)) (8.9.2.26)\n",
      "Requirement already satisfied: nvidia-cublas-cu12==12.1.3.1 in /opt/conda/lib/python3.11/site-packages (from torch->-r requirements.txt (line 1)) (12.1.3.1)\n",
      "Requirement already satisfied: nvidia-cufft-cu12==11.0.2.54 in /opt/conda/lib/python3.11/site-packages (from torch->-r requirements.txt (line 1)) (11.0.2.54)\n",
      "Requirement already satisfied: nvidia-curand-cu12==10.3.2.106 in /opt/conda/lib/python3.11/site-packages (from torch->-r requirements.txt (line 1)) (10.3.2.106)\n",
      "Requirement already satisfied: nvidia-cusolver-cu12==11.4.5.107 in /opt/conda/lib/python3.11/site-packages (from torch->-r requirements.txt (line 1)) (11.4.5.107)\n",
      "Requirement already satisfied: nvidia-cusparse-cu12==12.1.0.106 in /opt/conda/lib/python3.11/site-packages (from torch->-r requirements.txt (line 1)) (12.1.0.106)\n",
      "Requirement already satisfied: nvidia-nccl-cu12==2.19.3 in /opt/conda/lib/python3.11/site-packages (from torch->-r requirements.txt (line 1)) (2.19.3)\n",
      "Requirement already satisfied: nvidia-nvtx-cu12==12.1.105 in /opt/conda/lib/python3.11/site-packages (from torch->-r requirements.txt (line 1)) (12.1.105)\n",
      "Requirement already satisfied: triton==2.2.0 in /opt/conda/lib/python3.11/site-packages (from torch->-r requirements.txt (line 1)) (2.2.0)\n",
      "Requirement already satisfied: nvidia-nvjitlink-cu12 in /opt/conda/lib/python3.11/site-packages (from nvidia-cusolver-cu12==11.4.5.107->torch->-r requirements.txt (line 1)) (12.3.101)\n",
      "Requirement already satisfied: python-dateutil>=2.8.2 in /opt/conda/lib/python3.11/site-packages (from pandas->-r requirements.txt (line 4)) (2.8.2)\n",
      "Requirement already satisfied: pytz>=2020.1 in /opt/conda/lib/python3.11/site-packages (from pandas->-r requirements.txt (line 4)) (2023.3.post1)\n",
      "Requirement already satisfied: tzdata>=2022.1 in /opt/conda/lib/python3.11/site-packages (from pandas->-r requirements.txt (line 4)) (2023.3)\n",
      "Requirement already satisfied: contourpy>=1.0.1 in /opt/conda/lib/python3.11/site-packages (from matplotlib->-r requirements.txt (line 6)) (1.1.1)\n",
      "Requirement already satisfied: cycler>=0.10 in /opt/conda/lib/python3.11/site-packages (from matplotlib->-r requirements.txt (line 6)) (0.12.1)\n",
      "Requirement already satisfied: fonttools>=4.22.0 in /opt/conda/lib/python3.11/site-packages (from matplotlib->-r requirements.txt (line 6)) (4.43.1)\n",
      "Requirement already satisfied: kiwisolver>=1.0.1 in /opt/conda/lib/python3.11/site-packages (from matplotlib->-r requirements.txt (line 6)) (1.4.5)\n",
      "Requirement already satisfied: packaging>=20.0 in /opt/conda/lib/python3.11/site-packages (from matplotlib->-r requirements.txt (line 6)) (23.2)\n",
      "Requirement already satisfied: pyparsing>=2.3.1 in /opt/conda/lib/python3.11/site-packages (from matplotlib->-r requirements.txt (line 6)) (3.1.1)\n",
      "Requirement already satisfied: pretrainedmodels==0.7.4 in /opt/conda/lib/python3.11/site-packages (from segmentation_models_pytorch->-r requirements.txt (line 7)) (0.7.4)\n",
      "Requirement already satisfied: efficientnet-pytorch==0.7.1 in /opt/conda/lib/python3.11/site-packages (from segmentation_models_pytorch->-r requirements.txt (line 7)) (0.7.1)\n",
      "Requirement already satisfied: timm==0.9.2 in /opt/conda/lib/python3.11/site-packages (from segmentation_models_pytorch->-r requirements.txt (line 7)) (0.9.2)\n",
      "Requirement already satisfied: tqdm in /opt/conda/lib/python3.11/site-packages (from segmentation_models_pytorch->-r requirements.txt (line 7)) (4.66.1)\n",
      "Requirement already satisfied: munch in /opt/conda/lib/python3.11/site-packages (from pretrainedmodels==0.7.4->segmentation_models_pytorch->-r requirements.txt (line 7)) (4.0.0)\n",
      "Requirement already satisfied: pyyaml in /opt/conda/lib/python3.11/site-packages (from timm==0.9.2->segmentation_models_pytorch->-r requirements.txt (line 7)) (6.0.1)\n",
      "Requirement already satisfied: huggingface-hub in /opt/conda/lib/python3.11/site-packages (from timm==0.9.2->segmentation_models_pytorch->-r requirements.txt (line 7)) (0.21.2)\n",
      "Requirement already satisfied: safetensors in /opt/conda/lib/python3.11/site-packages (from timm==0.9.2->segmentation_models_pytorch->-r requirements.txt (line 7)) (0.4.2)\n",
      "Requirement already satisfied: scipy>=1.5.0 in /opt/conda/lib/python3.11/site-packages (from scikit-learn->-r requirements.txt (line 8)) (1.11.3)\n",
      "Requirement already satisfied: joblib>=1.1.1 in /opt/conda/lib/python3.11/site-packages (from scikit-learn->-r requirements.txt (line 8)) (1.3.2)\n",
      "Requirement already satisfied: threadpoolctl>=2.0.0 in /opt/conda/lib/python3.11/site-packages (from scikit-learn->-r requirements.txt (line 8)) (3.2.0)\n",
      "Requirement already satisfied: imageio>=2.27 in /opt/conda/lib/python3.11/site-packages (from scikit-image->-r requirements.txt (line 10)) (2.31.5)\n",
      "Requirement already satisfied: tifffile>=2022.8.12 in /opt/conda/lib/python3.11/site-packages (from scikit-image->-r requirements.txt (line 10)) (2023.9.26)\n",
      "Requirement already satisfied: lazy_loader>=0.3 in /opt/conda/lib/python3.11/site-packages (from scikit-image->-r requirements.txt (line 10)) (0.3)\n",
      "Requirement already satisfied: six>=1.5 in /opt/conda/lib/python3.11/site-packages (from python-dateutil>=2.8.2->pandas->-r requirements.txt (line 4)) (1.16.0)\n",
      "Requirement already satisfied: MarkupSafe>=2.0 in /opt/conda/lib/python3.11/site-packages (from jinja2->torch->-r requirements.txt (line 1)) (2.1.3)\n",
      "Requirement already satisfied: mpmath>=0.19 in /opt/conda/lib/python3.11/site-packages (from sympy->torch->-r requirements.txt (line 1)) (1.3.0)\n",
      "Requirement already satisfied: requests in /opt/conda/lib/python3.11/site-packages (from huggingface-hub->timm==0.9.2->segmentation_models_pytorch->-r requirements.txt (line 7)) (2.31.0)\n",
      "Requirement already satisfied: charset-normalizer<4,>=2 in /opt/conda/lib/python3.11/site-packages (from requests->huggingface-hub->timm==0.9.2->segmentation_models_pytorch->-r requirements.txt (line 7)) (3.3.0)\n",
      "Requirement already satisfied: idna<4,>=2.5 in /opt/conda/lib/python3.11/site-packages (from requests->huggingface-hub->timm==0.9.2->segmentation_models_pytorch->-r requirements.txt (line 7)) (3.4)\n",
      "Requirement already satisfied: urllib3<3,>=1.21.1 in /opt/conda/lib/python3.11/site-packages (from requests->huggingface-hub->timm==0.9.2->segmentation_models_pytorch->-r requirements.txt (line 7)) (2.0.7)\n",
      "Requirement already satisfied: certifi>=2017.4.17 in /opt/conda/lib/python3.11/site-packages (from requests->huggingface-hub->timm==0.9.2->segmentation_models_pytorch->-r requirements.txt (line 7)) (2023.7.22)\n",
      "Note: you may need to restart the kernel to use updated packages.\n"
     ]
    }
   ],
   "source": [
    "%pip install -r requirements.txt"
   ]
  },
  {
   "cell_type": "markdown",
   "metadata": {},
   "source": [
    "### 学習済みのU-Netを適用"
   ]
  },
  {
   "cell_type": "code",
   "execution_count": 2,
   "metadata": {},
   "outputs": [],
   "source": [
    "import cv2\n",
    "import numpy as np\n",
    "import torch\n",
    "import torch.nn as nn\n",
    "from IPython.display import Image\n",
    "\n",
    "import os\n",
    "import shutil\n",
    "import sys\n",
    "\n",
    "from segmentation.utils import torch_fix_seed, integrate_edges\n",
    "from segmentation.model import UNet_2D\n",
    "\n",
    "from hough.hough import hough_transform_CSD"
   ]
  },
  {
   "cell_type": "code",
   "execution_count": 3,
   "metadata": {},
   "outputs": [
    {
     "name": "stdout",
     "output_type": "stream",
     "text": [
      "hough  requirements.txt  segmentation  test.ipynb\n"
     ]
    }
   ],
   "source": [
    "!ls"
   ]
  },
  {
   "cell_type": "code",
   "execution_count": 4,
   "metadata": {},
   "outputs": [],
   "source": [
    "# 入力画像パス\n",
    "input_img   = \"../inputs/hitachi/raw/original/1.png\"         # 元画像\n",
    "# 出力先ディレクトリパス\n",
    "dir_output = \"../outputs/infer\"\n",
    "# 適用するモデル\n",
    "load_model = \"../models/finetune/finetune_11.pth\""
   ]
  },
  {
   "cell_type": "code",
   "execution_count": 5,
   "metadata": {},
   "outputs": [
    {
     "name": "stdout",
     "output_type": "stream",
     "text": [
      "Output size: (96, 96)\n"
     ]
    },
    {
     "data": {
      "image/png": "[encoded data removed]",
      "text/plain": [
       "<IPython.core.display.Image object>"
      ]
     },
     "metadata": {},
     "output_type": "display_data"
    },
    {
     "data": {
      "image/png": "[encoded data removed]",
      "text/plain": [
       "<IPython.core.display.Image object>"
      ]
     },
     "metadata": {},
     "output_type": "display_data"
    },
    {
     "data": {
      "image/png": "[encoded data removed]",
      "text/plain": [
       "<IPython.core.display.Image object>"
      ]
     },
     "metadata": {},
     "output_type": "display_data"
    }
   ],
   "source": [
    "torch_fix_seed()\n",
    "\n",
    "# フォルダ準備\n",
    "if os.path.exists(dir_output):\n",
    "  shutil.rmtree(dir_output)\n",
    "\n",
    "os.mkdir(dir_output) \n",
    "\n",
    "shutil.copy(load_model, dir_output)\n",
    "\n",
    "# 分類するクラス数\n",
    "classes = 3\n",
    "\n",
    "# GPU, Optimizer, Loss function\n",
    "device = torch.device(\"cuda:0\" if torch.cuda.is_available() else \"cpu\")\n",
    "model = UNet_2D(classes=classes).to(device)\n",
    "if torch.cuda.is_available():\n",
    "    model.load_state_dict(torch.load(load_model))\n",
    "else:\n",
    "    model.load_state_dict(torch.load(load_model, map_location=torch.device('cpu')))\n",
    "\n",
    "sigmoid = nn.Sigmoid()\n",
    "\n",
    "# 入力画像を読み込み、解像度調整\n",
    "img_orig = cv2.imread(input_img)\n",
    "required_height = [i for i in range(img_orig.shape[0] - 15, img_orig.shape[0] + 1) if i % 16 == 0]\n",
    "required_width = [i for i in range(img_orig.shape[1] - 15, img_orig.shape[1] + 1) if i % 16 == 0]\n",
    "print(f\"Output size: ({required_height[0]}, {required_width[0]})\")\n",
    "img = cv2.resize(img_orig, dsize = (required_width[0], required_height[0]))\n",
    "\n",
    "img = img/255\n",
    "img = torch.from_numpy(img.astype(np.float32)).clone()\n",
    "img = img.permute(2, 0, 1)\n",
    "img = img.unsqueeze(0)\n",
    "\n",
    "output = model(img)\n",
    "output = sigmoid(output)\n",
    "pred = torch.argmax(output, dim=1)\n",
    "pred = torch.nn.functional.one_hot(pred.long(), num_classes=classes).to(torch.float32)\n",
    "\n",
    "orig = img[0,0,:,:].cpu().numpy()\n",
    "cv2.imwrite(dir_output + \"/original.png\", orig*255)\n",
    "\n",
    "pred_np = torch.argmax(pred[0,:,:,:], dim=2).cpu().numpy()\n",
    "cv2.imwrite(dir_output + f\"/pred.png\", pred_np*255//(classes-1))\n",
    "cv2.imwrite(dir_output + f\"/pred_binary.png\", np.where(pred_np != 0, 1, pred_np)*255)\n",
    "for j in range(classes):\n",
    "      if j != 0:\n",
    "        pred_np = pred[0,:,:,j].cpu().numpy()\n",
    "        cv2.imwrite(dir_output + f\"/pred_class{j}.png\", pred_np*255)\n",
    "\n",
    "integrate_edges(\n",
    "   dir_output+\"/pred_class1.png\",\n",
    "   dir_output+\"/pred_class2.png\",\n",
    "   dir_output+\"/integrated_edge.png\"\n",
    ")\n",
    "\n",
    "display(Image(filename=dir_output+\"/original.png\"))\n",
    "display(Image(filename=dir_output+\"/pred.png\"))\n",
    "display(Image(filename=dir_output+\"/integrated_edge.png\"))"
   ]
  },
  {
   "cell_type": "markdown",
   "metadata": {},
   "source": [
    "### 直線パラメータ推定"
   ]
  },
  {
   "cell_type": "code",
   "execution_count": 13,
   "metadata": {},
   "outputs": [],
   "source": [
    "# 対象画像の二値画像パス (ex. integrated_edge.png)\n",
    "filepath = dir_output+\"/integrated_edge.png\"\n",
    "\n",
    "# 出力先ディレクトリパス\n",
    "output_folder = \"../outputs/hough\"\n",
    "\n",
    "# rho-theta空間上で検出した直線のうち, 投票数がこれ未満/以上のものを無視する.\n",
    "lower_threshold: int = 13\n",
    "upper_threshold: int = 13\n",
    "\n",
    "# (任意) 傾き正の直線検出に, 独自の閾値を使用したい場合は設定する.\n",
    "lower_threshold_interdot: int = None\n",
    "upper_threshold_interdot: int = None"
   ]
  },
  {
   "cell_type": "code",
   "execution_count": 15,
   "metadata": {},
   "outputs": [
    {
     "name": "stdout",
     "output_type": "stream",
     "text": [
      "[[False  True False ... False False False]\n",
      " [False False  True ... False False False]\n",
      " [False False False ... False False False]\n",
      " ...\n",
      " [False False False ... False False False]\n",
      " [False False False ... False False False]\n",
      " [False False False ... False False False]]\n",
      "[[  1   1   2   5   6   7   7   9  11  12  13  13  13  14  15  15  15  17\n",
      "   17  18  20  20  21  21  21  21  21  22  24  24  27  29  31  33  34  35\n",
      "   35  35  35  36  37  37  37  37  38  38  38  39  40  41  41  44  45  49\n",
      "   49  49  50  52  52  52  52  54  55  55  55  56  56  60  60  61  62  65\n",
      "   67  67  69  70  74  77  77  79  80  82  83  84  85  86  87  88  90  90\n",
      "   92  97  98 101]\n",
      " [  2  42   3   2   7   7  54  53   9  52   8  51  52  51  11  51  76  12\n",
      "   74  12  14  47   4  14  69  70  71  70  47  67  66  17  18   1   8  15\n",
      "   16  20  26  21  18  19  21  51   2   3  19  19  21  20  21  23  29  29\n",
      "   30  48  30  27  28  30  33  31  30  31  40  30  34  32  35  44  43  44\n",
      "   34  44  37  36  16  13  39  42  49  40  19  43  20  20  42  43  43  44\n",
      "   22  24  24  25]]\n",
      "\n",
      "[[  1   1   2   5   6   7   7   9  11  12  13  13  13  14  15  15  15  17\n",
      "   17  18  20  20  21  21  21  21  21  22  24  24  27  29  31  33  34  35\n",
      "   35  35  35  36  37  37  37  37  38  38  38  39  40  41  41  44  45  49\n",
      "   49  49  50  52  52  52  52  54  55  55  55  56  56  60  60  61  62  65\n",
      "   67  67  69  70  74  77  77  79  80  82  83  84  85  86  87  88  90  90\n",
      "   92  97  98 101]\n",
      " [137 177 138 137 142 142 324 323 144 322 143 321 322 321 146 321 346 147\n",
      "  344 147 149 317 139 149 339 340 341 340 317 337 336 152 153 136 143 150\n",
      "  151 155 161 156 153 154 156 321 137 138 154 154 156 155 156 158 164 164\n",
      "  165 318 165 162 163 165 168 166 165 166 175 165 169 167 170 179 178 179\n",
      "  169 179 172 171 151 148 174 177 319 175 154 178 155 155 177 178 178 179\n",
      "  157 159 159 160]]\n",
      "[[False False False ... False False False]\n",
      " [False False False ... False False False]\n",
      " [False False False ... False False False]\n",
      " ...\n",
      " [False False False ... False False False]\n",
      " [False False False ... False False False]\n",
      " [False False False ... False False False]]\n",
      "[[  8  10  60  63  66  67  71  73  74  78  79  84  90  94  94  95  96  97\n",
      "   98 103 106 108 109 110 111 119 121 123 124 128 129 132 133 133 134 137\n",
      "  139 139 140 142 142 144 145 146 146 146 146 146 146 146 147 147 147 147\n",
      "  148 149 149 149 150 151 152 152 152 153 153 153 155 161 185 186]\n",
      " [ 90  90  90  91 171  91 174 178 171 100 136 174  95  91  92 169  90 169\n",
      "   92 102 164  94  98 162  98 135 131 135 134 152 135 143 143 144  90 147\n",
      "  143 144 144 118 119 153 155 122 125 151 152 153 154 157 135 150 152 154\n",
      "   90 130 131 169 124 166 138 139 164 135 136 173 164 169 158 158]]\n",
      "\n",
      "[[  8  10  60  63  66  67  71  73  74  78  79  84  90  94  94  95  96  97\n",
      "   98 103 106 108 109 110 111 119 121 123 124 128 129 132 133 133 134 137\n",
      "  139 139 140 142 142 144 145 146 146 146 146 146 146 146 147 147 147 147\n",
      "  148 149 149 149 150 151 152 152 152 153 153 153 155 161 185 186]\n",
      " [180 180 180 181 261 181 264 268 261 190 226 264 185 181 182 259 180 259\n",
      "  182 192 254 184 188 252 188 225 221 225 224 242 225 233 233 234 180 237\n",
      "  233 234 234 208 209 243 245 212 215 241 242 243 244 247 225 240 242 244\n",
      "  180 220 221 259 214 256 228 229 254 225 226 263 254 259 248 248]]\n",
      "[[False False False ... False False False]\n",
      " [False False False ... False False False]\n",
      " [False False False ... False False False]\n",
      " ...\n",
      " [False False False ... False False False]\n",
      " [False False False ... False False False]\n",
      " [False False False ... False False False]]\n",
      "[[  1   1   1   1   2   3   4   4   5   6   6   6   7   7   8  10  11  11\n",
      "   12  12  13  13  15  16  16  17  17  17  18  19  19  19  19  21  21  21\n",
      "   22  22  23  24  24  24  24  24  26  26  27  27  28  28  28  29  32  34\n",
      "   35  35  35  37  39  42  44  44  45  46  47  47  47  47  52  55  56  57\n",
      "   57  58  58  58  59  59  60  60  60  60  60  60  61  61  62  62  63  63\n",
      "   64  64  64  65  67  70  70  71  71  71  72  72  72  74  74  74  75  75\n",
      "   77  78  79  81  84  84  85  85  87  88  90  91  93  93  94  94  95  95\n",
      "   96  97  98  99  99  99 100 101 103 103 104 105 105 106 108 109 110 112\n",
      "  114 115 115 117 119 123 127 131 133 135 138 140 140 140 145 147 147 149\n",
      "  150 150 155 158 161 165 167 170]\n",
      " [ 28  30  43  72  29  80  30  86  32  33  38  80  69  84  85  39  35  86\n",
      "   36  75  40  63  39  65  66  40  66  76  42  64  65  68  70  63  64  68\n",
      "   67  80  63  61  64  66  74  80  60  74  58  62  58  59  78  58  58  55\n",
      "   55  56  57  56  83  52  53  85  51  80  72  79  82  83  67  76  69  69\n",
      "   70  65  70  71  68  70  45  48  63  65  66  69  68  70  63  65  69  72\n",
      "   66  68  70  68  67  61  62  63  67  68  45  66  67  60  62  67  59  66\n",
      "   65  65  60  61  55  56  56  58  55  58  59  58  53  57  45  53  57  88\n",
      "   52  57  56  51  56  72  54  55  50  53  48  70  75  70  74  74  82  72\n",
      "   72  79  80  71  70  68  66  66  62  64  60  56  58  59  57  47  57  56\n",
      "   55  56  53  53  50  47  48  46]]\n",
      "\n",
      "[[  1   1   1   1   2   3   4   4   5   6   6   6   7   7   8  10  11  11\n",
      "   12  12  13  13  15  16  16  17  17  17  18  19  19  19  19  21  21  21\n",
      "   22  22  23  24  24  24  24  24  26  26  27  27  28  28  28  29  32  34\n",
      "   35  35  35  37  39  42  44  44  45  46  47  47  47  47  52  55  56  57\n",
      "   57  58  58  58  59  59  60  60  60  60  60  60  61  61  62  62  63  63\n",
      "   64  64  64  65  67  70  70  71  71  71  72  72  72  74  74  74  75  75\n",
      "   77  78  79  81  84  84  85  85  87  88  90  91  93  93  94  94  95  95\n",
      "   96  97  98  99  99  99 100 101 103 103 104 105 105 106 108 109 110 112\n",
      "  114 115 115 117 119 123 127 131 133 135 138 140 140 140 145 147 147 149\n",
      "  150 150 155 158 161 165 167 170]\n",
      " [118 120 133 297 119 305 120 311 122 123 128 305 294 309 310 129 125 311\n",
      "  126 300 130 288 129 290 291 130 291 301 132 289 290 293 295 288 289 293\n",
      "  292 305 288 286 289 291 299 305 285 299 283 287 283 284 303 283 283 280\n",
      "  280 281 282 281 308 277 278 310 276 305 297 304 307 308 292 301 294 294\n",
      "  295 290 295 296 293 295 270 273 288 290 291 294 293 295 288 290 294 297\n",
      "  291 293 295 293 292 286 287 288 292 293 270 291 292 285 287 292 284 291\n",
      "  290 290 285 286 280 281 281 283 280 283 284 283 278 282 270 278 282 313\n",
      "  277 282 281 276 281 297 279 280 275 278 273 295 300 295 299 299 307 297\n",
      "  297 304 305 296 295 293 291 291 287 289 285 281 283 284 282 272 282 281\n",
      "  280 281 278 278 275 272 273 271]]\n",
      "Num of Lines\n",
      "|- Vertical:   94\n",
      "|- Interdot:   70\n",
      "|- Horizontal: 170\n"
     ]
    }
   ],
   "source": [
    "hough_transform_CSD(\n",
    "    method=\"slope_intercept\",\n",
    "    filepath=filepath,\n",
    "    output_folder=output_folder,\n",
    "    edge_extraction=False,\n",
    "    thinning=False,\n",
    "    lower_threshold=lower_threshold,\n",
    "    upper_threshold=upper_threshold,\n",
    "    lower_threshold_interdot=lower_threshold_interdot,\n",
    "    upper_threshold_interdot=upper_threshold_interdot,\n",
    ")"
   ]
  },
  {
   "cell_type": "code",
   "execution_count": null,
   "metadata": {},
   "outputs": [],
   "source": [
    "# 検出した直線を確認\n"
   ]
  }
 ],
 "metadata": {
  "kernelspec": {
   "display_name": "base",
   "language": "python",
   "name": "python3"
  },
  "language_info": {
   "codemirror_mode": {
    "name": "ipython",
    "version": 3
   },
   "file_extension": ".py",
   "mimetype": "text/x-python",
   "name": "python",
   "nbconvert_exporter": "python",
   "pygments_lexer": "ipython3",
   "version": "3.11.6"
  }
 },
 "nbformat": 4,
 "nbformat_minor": 2
}
